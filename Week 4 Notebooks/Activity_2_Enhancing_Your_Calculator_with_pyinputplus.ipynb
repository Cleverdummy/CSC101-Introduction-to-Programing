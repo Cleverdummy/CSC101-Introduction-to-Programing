{
  "cells": [
    {
      "cell_type": "markdown",
      "metadata": {
        "id": "view-in-github",
        "colab_type": "text"
      },
      "source": [
        "<a href=\"https://colab.research.google.com/github/Cleverdummy/CSC101-Introduction-to-Programing/blob/main/Week%204%20Notebooks/Activity_2_Enhancing_Your_Calculator_with_pyinputplus.ipynb\" target=\"_parent\"><img src=\"https://colab.research.google.com/assets/colab-badge.svg\" alt=\"Open In Colab\"/></a>"
      ]
    },
    {
      "cell_type": "markdown",
      "metadata": {
        "id": "8nBJt4fnFY-h"
      },
      "source": [
        "# Introduction\n",
        "\n",
        "In this worksheet, you will recreate the simplified calculator from Activity 1:\n",
        "- Break a problem into smaller, manageable functions.\n",
        "- Reinforce the concept of returning values from functions.\n",
        "- Apply modular design principles, which will be useful when we later build a full weather dashboard.\n",
        "\n",
        "We'll also learn how to use an external library called **pyinputplus** to improve input validation in our Python programmes. In our Python notebooks, you can run shell commands by prefixing them with an exclamation mark (`!`).\n",
        "\n",
        "\n",
        "# Discovering pyinputplus\n",
        "\n",
        "Beginners often discover pyinputplus by exploring online tutorials, coding forums, or by browsing the Python Package Index (PyPI) when they search for ways to improve input validation. A quick search for \"Python input validation library\" might lead you to pyinputplus as a popular and simple solution.\n",
        "\n",
        "Furthermore, engaging with the wider Python community—through blogs, tutorials, or course materials—can provide insights into how and why to use external libraries like pyinputplus. Reading the official documentation and experimenting with example code will help you understand its benefits and prepare you to explore other tools that extend Python's capabilities.\n",
        "\n",
        "\n",
        "# Installing pyinputplus\n",
        "\n",
        "To use pyinputplus, you need to install it. In a code cell in your notebook, run the following command:\n",
        "\n",
        "```python\n",
        "!pip install pyinputplus\n",
        "```\n",
        "\n",
        "> *Tip:*  If you run into issues, try searching for \"how to install python packages in Jupyter Notebook\" or ask an AI tool, e.g., \"How do I install the pyinputplus package in a Python notebook?\"\n",
        "\n",
        "# pyinputplus Basics\n",
        "\n",
        "The **pyinputplus** library provides functions like `inputInt()`, `inputFloat()`, and `inputChoice()` for getting input with built-in validation. Here are some simple examples:\n",
        "\n",
        "```python\n",
        "import pyinputplus as pyip\n",
        "\n",
        "# Ensures the user enters a float\n",
        "number = pyip.inputFloat(\"Enter a number: \")\n",
        "\n",
        "# Ensures the user enters one of the provided choices\n",
        "choice = pyip.inputChoice(['1', '2', '3', '4'], prompt=\"Enter your choice (1-4): \")\n",
        "```\n",
        "\n",
        "> *Note:* pyinputplus will repeatedly prompt the user until valid input is entered, which reduces the risk of errors from invalid data.\n",
        "\n",
        "# Reimplementing the Calculator\n",
        "\n",
        "Your task is to rewrite your simple calculator code from a previous worksheet, but now use pyinputplus to handle user input. Specifically, you should:\n",
        "\n",
        "- Replace built-in `input()` calls with `pyip.inputChoice()` for getting the operation choice.\n",
        "- Replace the `input()` calls for numbers with `pyip.inputFloat()` (or `pyip.inputNum()` to allow both integers and floats).\n",
        "\n",
        "> *Hint:*  Reuse the modular design from your previous worksheet. Your functions for performing calculations can remain largely unchanged, but the way you gather user input will now use pyinputplus.\n",
        "\n",
        "# Bonus Challenges (Optional)\n",
        "\n",
        "- **Division by Zero:**  \n",
        "  Enhance your divide function by checking for division by zero. You might use an if-statement after obtaining the input, or explore pyinputplus's `applyFunc()` for additional validation.\n",
        "\n",
        "- **Using Additional pyinputplus Options:**  \n",
        "  Experiment with `pyip.inputNum()` to accept both integers and floats.  \n",
        "  Try using the timeout or retry options in pyinputplus to further improve input handling.\n",
        "\n",
        "# Key Teaching Points\n",
        "\n",
        "- **Modularity:**  \n",
        "  External libraries, such as pyinputplus, extend Python's built-in functionality and help make your code more robust and maintainable.\n",
        "\n",
        "- **Input Validation:**  \n",
        "  Robust input validation is crucial for preventing errors and ensuring that your programme behaves as expected.\n",
        "\n",
        "- **Error Prevention:**  \n",
        "  Using pyinputplus minimizes runtime errors by continuously prompting until valid input is provided.\n",
        "\n",
        "- **Community Resources:**  \n",
        "  PyPI is a valuable resource where you can find many community-developed Python packages that can save you time and effort.\n",
        "\n",
        "\n",
        "# Discovering Modules and Packages\n",
        "\n",
        "While today's worksheet focuses on using pyinputplus, it's important to realise that it's just one example of the many powerful modules available to Python developers. When you need to extend Python's functionality, you can explore the Python Package Index (PyPI) to find community-developed libraries that meet your needs.\n",
        "\n",
        "**How to Discover Useful Modules:**\n",
        "- **Online Tutorials and Blogs:**  \n",
        "  Many tutorials and blog posts introduce popular packages. For example, if you're interested in input validation, you might search for \"Python input validation library\" and find recommendations like pyinputplus.\n",
        "- **PyPI:**  \n",
        "  Visit [pypi.org](https://pypi.org) to search for packages by keywords or browse trending projects.\n",
        "- **Community Forums:**  \n",
        "  Forums such as Stack Overflow and Reddit’s r/learnpython are great places to ask for recommendations.\n",
        "- **Course Materials:**  \n",
        "  Your course might introduce certain packages as you progress, giving you a curated list of tools to try.\n",
        "\n",
        "By learning how to find and integrate external modules, you will be better equipped to tackle more complex projects. The skills you develop here—searching for packages, reading documentation, and testing new libraries—will be invaluable in your future projects, including your final assignment where you'll build a comprehensive weather dashboard.\n",
        "\n",
        "> *AI Tip:*   If you ever need help, ask an AI tool questions like:\n",
        "- \"What are some useful Python packages for [task]?\"\n",
        "- \"How do I install and use a package from PyPI?\"\n",
        "- \"Can you suggest some packages for input validation in Python?\"\n",
        "\n",
        "\n",
        "# Version Control Reminder\n",
        "\n",
        "As you work on this project, remember the importance of regularly saving your work to GitHub. Here are some tips:\n",
        "- **Save Often:**  \n",
        "  Commit your changes frequently to avoid losing your progress.\n",
        "- **Meaningful Commit Messages:**  \n",
        "  Write clear and descriptive commit messages. For example:\n",
        "  - \"Installed pyinputplus and updated input functions\"\n",
        "  - \"Reimplemented calculator menu using pyinputplus.inputChoice()\"\n",
        "  - \"Added error handling for division by zero\"\n",
        "\n",
        "# Final Tip\n",
        "\n",
        "The functions and techniques you learn in this mini-project may be useful in your final assignment when you build a comprehensive weather dashboard. Modular design and robust input validation are essential skills in professional software development.\n",
        "\n",
        "> *AI Hint:* If you need help at any point, try asking an AI tool questions like:  \n",
        "- \"How do I convert my input() calls to pyinputplus functions in a Python notebook?\"  \n",
        "- \"Can you explain how pyinputplus.inputChoice() works?\"  \n",
        "- \"Help me write pseudo-code for reimplementing my calculator using pyinputplus.\"  \n",
        "- \"What are some best practices for writing commit messages for GitHub?\"\n",
        "\n",
        "Happy coding!"
      ]
    },
    {
      "cell_type": "code",
      "source": [
        "!pip install pyinputplus"
      ],
      "metadata": {
        "id": "3oWQYf-rPxHu",
        "outputId": "8f1f3870-f4e1-469a-c677-3c523f951c5b",
        "colab": {
          "base_uri": "https://localhost:8080/"
        }
      },
      "execution_count": 2,
      "outputs": [
        {
          "output_type": "stream",
          "name": "stdout",
          "text": [
            "Collecting pyinputplus\n",
            "  Downloading PyInputPlus-0.2.12.tar.gz (20 kB)\n",
            "  Installing build dependencies ... \u001b[?25l\u001b[?25hdone\n",
            "  Getting requirements to build wheel ... \u001b[?25l\u001b[?25hdone\n",
            "  Preparing metadata (pyproject.toml) ... \u001b[?25l\u001b[?25hdone\n",
            "Collecting pysimplevalidate>=0.2.7 (from pyinputplus)\n",
            "  Downloading PySimpleValidate-0.2.12.tar.gz (22 kB)\n",
            "  Installing build dependencies ... \u001b[?25l\u001b[?25hdone\n",
            "  Getting requirements to build wheel ... \u001b[?25l\u001b[?25hdone\n",
            "  Preparing metadata (pyproject.toml) ... \u001b[?25l\u001b[?25hdone\n",
            "\u001b[33mWARNING: Retrying (Retry(total=4, connect=None, read=None, redirect=None, status=None)) after connection broken by 'ProtocolError('Connection aborted.', RemoteDisconnected('Remote end closed connection without response'))': /simple/stdiomask/\u001b[0m\u001b[33m\n",
            "\u001b[0mCollecting stdiomask>=0.0.3 (from pyinputplus)\n",
            "  Downloading stdiomask-0.0.6.tar.gz (3.6 kB)\n",
            "  Installing build dependencies ... \u001b[?25l\u001b[?25hdone\n",
            "  Getting requirements to build wheel ... \u001b[?25l\u001b[?25hdone\n",
            "  Preparing metadata (pyproject.toml) ... \u001b[?25l\u001b[?25hdone\n",
            "Building wheels for collected packages: pyinputplus, pysimplevalidate, stdiomask\n",
            "  Building wheel for pyinputplus (pyproject.toml) ... \u001b[?25l\u001b[?25hdone\n",
            "  Created wheel for pyinputplus: filename=pyinputplus-0.2.12-py3-none-any.whl size=11349 sha256=dcfd083271e433d1a9525e68489c4468867274edf2283efd76f73de41b91b801\n",
            "  Stored in directory: /root/.cache/pip/wheels/a3/6b/89/3bec14288af8e0729d088fb41a785e583d49e772f2529c7676\n",
            "  Building wheel for pysimplevalidate (pyproject.toml) ... \u001b[?25l\u001b[?25hdone\n",
            "  Created wheel for pysimplevalidate: filename=pysimplevalidate-0.2.12-py3-none-any.whl size=16225 sha256=745a946d31c1d65b9fc15d6c0105e65e6fa4f88c1fe62f3133d5b67726ae2d6f\n",
            "  Stored in directory: /root/.cache/pip/wheels/fc/40/7a/4d3b2dc2e80b4b3bbda89eec94fcefd6c8bd1101cc7bb89554\n",
            "  Building wheel for stdiomask (pyproject.toml) ... \u001b[?25l\u001b[?25hdone\n",
            "  Created wheel for stdiomask: filename=stdiomask-0.0.6-py3-none-any.whl size=3357 sha256=506aa0d1a19e6766a890d7262de0537bf1e05313ace1fd11dda4fae5ea3b1fed\n",
            "  Stored in directory: /root/.cache/pip/wheels/19/0c/90/5ee0da7cf06ff7e233f273063797785d5eabf0ab9f04220866\n",
            "Successfully built pyinputplus pysimplevalidate stdiomask\n",
            "Installing collected packages: stdiomask, pysimplevalidate, pyinputplus\n",
            "Successfully installed pyinputplus-0.2.12 pysimplevalidate-0.2.12 stdiomask-0.0.6\n"
          ]
        }
      ]
    },
    {
      "cell_type": "code",
      "source": [
        "!pip install pyinputplus\n"
      ],
      "metadata": {
        "id": "Pnw4gD0ZFuBX",
        "outputId": "2fad723c-e7c1-4e59-f0a4-399df2e5d016",
        "colab": {
          "base_uri": "https://localhost:8080/"
        }
      },
      "execution_count": 1,
      "outputs": [
        {
          "output_type": "stream",
          "name": "stdout",
          "text": [
            "Collecting pyinputplus\n",
            "  Downloading PyInputPlus-0.2.12.tar.gz (20 kB)\n",
            "  Installing build dependencies ... \u001b[?25l\u001b[?25hdone\n",
            "  Getting requirements to build wheel ... \u001b[?25l\u001b[?25hdone\n",
            "  Preparing metadata (pyproject.toml) ... \u001b[?25l\u001b[?25hdone\n",
            "Collecting pysimplevalidate>=0.2.7 (from pyinputplus)\n",
            "  Downloading PySimpleValidate-0.2.12.tar.gz (22 kB)\n",
            "  Installing build dependencies ... \u001b[?25l\u001b[?25hdone\n",
            "  Getting requirements to build wheel ... \u001b[?25l\u001b[?25hdone\n",
            "  Preparing metadata (pyproject.toml) ... \u001b[?25l\u001b[?25hdone\n",
            "Collecting stdiomask>=0.0.3 (from pyinputplus)\n",
            "  Downloading stdiomask-0.0.6.tar.gz (3.6 kB)\n",
            "  Installing build dependencies ... \u001b[?25l\u001b[?25hdone\n",
            "  Getting requirements to build wheel ... \u001b[?25l\u001b[?25hdone\n",
            "  Preparing metadata (pyproject.toml) ... \u001b[?25l\u001b[?25hdone\n",
            "Building wheels for collected packages: pyinputplus, pysimplevalidate, stdiomask\n",
            "  Building wheel for pyinputplus (pyproject.toml) ... \u001b[?25l\u001b[?25hdone\n",
            "  Created wheel for pyinputplus: filename=pyinputplus-0.2.12-py3-none-any.whl size=11349 sha256=55f17206b4bf35ca961b69f29890fda16189a3a1ed1cdcf7630b670486742e86\n",
            "  Stored in directory: /root/.cache/pip/wheels/a3/6b/89/3bec14288af8e0729d088fb41a785e583d49e772f2529c7676\n",
            "  Building wheel for pysimplevalidate (pyproject.toml) ... \u001b[?25l\u001b[?25hdone\n",
            "  Created wheel for pysimplevalidate: filename=pysimplevalidate-0.2.12-py3-none-any.whl size=16225 sha256=e81f2f01b824439b250f6a2e459198831c614c879ffa96a88e2e2b699300e2df\n",
            "  Stored in directory: /root/.cache/pip/wheels/fc/40/7a/4d3b2dc2e80b4b3bbda89eec94fcefd6c8bd1101cc7bb89554\n",
            "  Building wheel for stdiomask (pyproject.toml) ... \u001b[?25l\u001b[?25hdone\n",
            "  Created wheel for stdiomask: filename=stdiomask-0.0.6-py3-none-any.whl size=3357 sha256=c90ec22f594ef9ed541c6409f75f9f955c0133fb91451013d6bd23094255aa18\n",
            "  Stored in directory: /root/.cache/pip/wheels/19/0c/90/5ee0da7cf06ff7e233f273063797785d5eabf0ab9f04220866\n",
            "Successfully built pyinputplus pysimplevalidate stdiomask\n",
            "Installing collected packages: stdiomask, pysimplevalidate, pyinputplus\n",
            "Successfully installed pyinputplus-0.2.12 pysimplevalidate-0.2.12 stdiomask-0.0.6\n"
          ]
        }
      ]
    },
    {
      "cell_type": "code",
      "source": [
        "import pyinputplus as pyip\n",
        "\n",
        "#users input as floats\n",
        "number = pyip.inputFloat(\"Enter a number: \")\n",
        "\n",
        "# ensuring users enters a number from the choices avalable\n",
        "choice = pyip.inputChoice(['1', '2', '3', '4'], prompt=\"Enter your choice (1-4): \")"
      ],
      "metadata": {
        "id": "dAm4MO1mQXsB",
        "outputId": "c8048805-f596-42f1-b8dd-84c80de32f94",
        "colab": {
          "base_uri": "https://localhost:8080/"
        }
      },
      "execution_count": 2,
      "outputs": [
        {
          "name": "stdout",
          "output_type": "stream",
          "text": [
            "Enter a number: 2\n",
            "Enter your choice (1-4): 5\n",
            "'5' is not a valid choice.\n",
            "Enter your choice (1-4): 3\n"
          ]
        }
      ]
    },
    {
      "cell_type": "code",
      "source": [
        "#program that calculates\n",
        "import pyinputplus as pyip\n",
        "#naming and defining the function\n",
        "def add(a,b):\n",
        "    return a + b\n",
        "\n",
        "def subtract(a,b):\n",
        "    return a - b\n",
        "\n",
        "def multiply(a,b):\n",
        "    return a * b\n",
        "\n",
        "def divide(a,b):\n",
        "    if b != 0:\n",
        "        return a / b\n",
        "    else:\n",
        "        return\n",
        "\n",
        "#printing the users choices\n",
        "print(\"choose a suitable operation \")\n",
        "print(\"1. add\")\n",
        "print(\"2. subtract\")\n",
        "print(\"3. multiply\")\n",
        "print(\"4. divide\")\n",
        "\n",
        "#getting the users input\n",
        "number1 = pyip.inputFloat(\"Enter a number A: \")\n",
        "number2 = pyip.inputFloat(\"Enter a number B: \")\n",
        "#from the printed choices above\n",
        "choice = pyip.inputChoice(['1', '2', '3', '4'], prompt=\"Enter your choice (1-4): \")\n",
        "\n",
        "#if and else if function after choice\n",
        "if choice == '1':\n",
        "    print(number1, \"+\", number2, \"=\", add(number1, number2))\n",
        "\n",
        "elif choice == '2':\n",
        "    print(number1, \"-\", number2, \"=\", subtract(number1, number2))\n",
        "\n",
        "elif choice == '3':\n",
        "    print(number1, \"*\", number2, \"=\", multiply(number1, number2))\n",
        "elif choice == '4':\n",
        "    print(number1, \"/\", number2, \"=\", divide(number1, number2))\n",
        "else:\n",
        "    print(\"Invalid input\")"
      ],
      "metadata": {
        "id": "F0WMDzK0Rcjf",
        "outputId": "2adbe22d-497b-4433-c83c-ab62b9b0c006",
        "colab": {
          "base_uri": "https://localhost:8080/"
        }
      },
      "execution_count": 3,
      "outputs": [
        {
          "output_type": "stream",
          "name": "stdout",
          "text": [
            "choose a suitable operation \n",
            "1. add\n",
            "2. subtract\n",
            "3. multiply\n",
            "4. divide\n",
            "Enter a number A: 34\n",
            "Enter a number B: 2\n",
            "Enter your choice (1-4): 3\n",
            "34.0 * 2.0 = 68.0\n"
          ]
        }
      ]
    }
  ],
  "metadata": {
    "kernelspec": {
      "display_name": "Python 3 (ipykernel)",
      "language": "python",
      "name": "python3"
    },
    "colab": {
      "provenance": [],
      "include_colab_link": true
    }
  },
  "nbformat": 4,
  "nbformat_minor": 0
}