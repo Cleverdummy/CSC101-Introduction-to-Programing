{
  "nbformat": 4,
  "nbformat_minor": 0,
  "metadata": {
    "colab": {
      "provenance": [],
      "include_colab_link": true
    },
    "kernelspec": {
      "name": "python3",
      "display_name": "Python 3"
    },
    "language_info": {
      "name": "python"
    }
  },
  "cells": [
    {
      "cell_type": "markdown",
      "metadata": {
        "id": "view-in-github",
        "colab_type": "text"
      },
      "source": [
        "<a href=\"https://colab.research.google.com/github/Cleverdummy/CSC101-Introduction-to-Programing/blob/main/assigment1.ipynb\" target=\"_parent\"><img src=\"https://colab.research.google.com/assets/colab-badge.svg\" alt=\"Open In Colab\"/></a>"
      ]
    },
    {
      "cell_type": "code",
      "execution_count": null,
      "metadata": {
        "id": "fuBPyWgLNPWx"
      },
      "outputs": [],
      "source": []
    },
    {
      "cell_type": "markdown",
      "source": [
        "# ***Introduction***\n",
        "\n",
        "Welcome to my first python notebook.\n",
        "\n",
        "This notebook provides clear quide of a program that analyses text input from users, calculating statistics and creating visualisations of the results.\n",
        "\n",
        "## **Function 1: get_user_input()**\n",
        "\n",
        "To ask for a block of text I will use pyinputplus\n"
      ],
      "metadata": {
        "id": "zLrhC790r5Nk"
      }
    },
    {
      "cell_type": "code",
      "source": [
        "#start by installing pyinputplus\n",
        "!pip install pyinputplus"
      ],
      "metadata": {
        "id": "FfpdmuAmLyFS"
      },
      "execution_count": null,
      "outputs": []
    },
    {
      "cell_type": "markdown",
      "source": [
        "After installing the pyinputplus, I'll proceed to getting users input."
      ],
      "metadata": {
        "id": "Irrksh-NMt5I"
      }
    },
    {
      "cell_type": "code",
      "source": [
        "\n",
        "#get users input\n",
        "import pyinputplus as pyip\n",
        "def get_user_input():\n",
        "    print(\"\\n Please enter your text below.\")\n",
        "    print(\"(Press Enter twice to finish):\")\n",
        "\n",
        "    lines = []\n",
        "    while True:\n",
        "        line = input()\n",
        "        if line.strip() == \"\":\n",
        "            if lines:\n",
        "                break\n",
        "            else:\n",
        "                print(\"Please enter at least one line of text.\")\n",
        "        else:\n",
        "            lines.append(line.strip())\n",
        "\n",
        "    return \" \".join(lines)\n",
        "'''output\n",
        "text = get_user_input()\n",
        "print(\"\\n—you entered—\\n\")\n",
        "print(text)'''\n"
      ],
      "metadata": {
        "id": "EBRxn6YTM9oD"
      },
      "execution_count": null,
      "outputs": []
    },
    {
      "cell_type": "markdown",
      "source": [
        "# **Function 2: clean_text(text)**\n",
        "\n",
        "This removes punctuations and normalizes the case."
      ],
      "metadata": {
        "id": "vibleq4wOrKR"
      }
    },
    {
      "cell_type": "code",
      "source": [
        "# import re in Python is used to bring in the Regular Expressions (regex)\n",
        "# module, which lets you search, match, and manipulate strings using patterns.\n",
        "\n",
        "import re\n",
        "\n",
        "def clean_text(text):\n",
        "    # Convert to lowercase\n",
        "    text = text.lower()\n",
        "    # Remove punctuation using regex\n",
        "    text = re.sub(r'[^\\w\\s]', '', text)\n",
        "    return text\n",
        "\n",
        "'''sample = text\n",
        "cleaned = clean_text(sample)\n",
        "print(\"original:\",sample)\n",
        "print(\"cleaned:\",cleaned)'''"
      ],
      "metadata": {
        "id": "u7RgUDp0PBNp"
      },
      "execution_count": null,
      "outputs": []
    },
    {
      "cell_type": "markdown",
      "source": [
        "# **Function 3:** calculate_statistics(text)\n",
        "\n",
        "This calculates basic statisctics from the cleaned text.\n"
      ],
      "metadata": {
        "id": "JbxRAcq-QwgN"
      }
    },
    {
      "cell_type": "code",
      "source": [
        "def calculate_statistics(cleaned_text):\n",
        "    words = cleaned_text.split()\n",
        "    word_count = len(words)\n",
        "\n",
        "    # Basic sentence count: count '.', '!' or '?' in original text\n",
        "    # (Assume original text is available, not cleaned one)\n",
        "    sentence_count = len(re.findall(r'[.!?]', cleaned_text))\n",
        "\n",
        "    # Calculate average word length\n",
        "    if word_count > 0:\n",
        "        avg_word_len = sum(len(word) for word in words) / word_count\n",
        "    else:\n",
        "        avg_word_len = 0\n",
        "\n",
        "    return {\n",
        "        'word_count': word_count,\n",
        "        'sentence_count': sentence_count,\n",
        "        'average_word_length': round(avg_word_len, 2)\n",
        "    }\n"
      ],
      "metadata": {
        "id": "cd-jNWoZRZ5N"
      },
      "execution_count": null,
      "outputs": []
    },
    {
      "cell_type": "markdown",
      "source": [
        "## **Function 4:**   get_word_frequencies(cleaned_text,top_n)\n",
        "\n",
        "For this to be efficient to the progam or for it to be effective I used ***collections.counter*** to find the most common words.\n",
        "\n",
        "**Collections.Counter**\n",
        "*   A subclass of dict designed for counting.\n",
        "*   Keys are the items you’re counting (e.g., words), and values are the counts.\n",
        "\n",
        "\n",
        "\n"
      ],
      "metadata": {
        "id": "4sPtKLHqWBNm"
      }
    },
    {
      "cell_type": "code",
      "source": [
        "from collections import Counter\n",
        "\n",
        "def get_word_frequencies(cleaned_text, top_n=10):\n",
        "    words = cleaned_text.split()\n",
        "    word_counts = Counter(words)\n",
        "    most_common = word_counts.most_common(top_n)\n",
        "    return dict(most_common)\n",
        "\n",
        "#sample text is the user input saved in the variable \"text\"\n",
        "sample_text = \"text.\"\n",
        "#the input must first be cleaned before getting the word frequency\n",
        "freqs = get_word_frequencies(sample_text, top_n=3)\n",
        "\n",
        "'''print(\"Top 3 word frequencies:\")\n",
        "for word, count in freqs.items():\n",
        "    print(f\"{word}: {count}\")'''\n",
        "\n"
      ],
      "metadata": {
        "id": "GPzPWdVjiXyr"
      },
      "execution_count": null,
      "outputs": []
    },
    {
      "cell_type": "markdown",
      "source": [
        "## **Function 5:**  visualise_frequencies(freq_dict)\n",
        "\n",
        "\n",
        "This visualises the frequency dictionary using matplotlib.\n",
        "\n",
        "*   It takes your frequency dictionary—where keys are words and values are counts—and produce a bar chart of the top words.\n",
        "\n",
        "\n",
        "\n"
      ],
      "metadata": {
        "id": "i8BQSsHtnPU6"
      }
    },
    {
      "cell_type": "code",
      "source": [
        "!pip install matplotlib"
      ],
      "metadata": {
        "id": "rNemQZ7QoroB"
      },
      "execution_count": null,
      "outputs": []
    },
    {
      "cell_type": "code",
      "source": [
        "import matplotlib.pyplot as plt\n",
        "\n",
        "def visualise_frequencies(freq_dict):\n",
        "    if not freq_dict:\n",
        "        print(\"No data to display.\")\n",
        "        return\n",
        "\n",
        "    words = list(freq_dict.keys())\n",
        "    counts = list(freq_dict.values())\n",
        "\n",
        "    plt.figure(figsize=(10, 6))\n",
        "    plt.bar(words, counts, color='skyblue')\n",
        "    plt.xlabel('Words')\n",
        "    plt.ylabel('Frequency')\n",
        "    plt.title('Top Word Frequencies')\n",
        "    plt.xticks(rotation=45)\n",
        "    plt.tight_layout()\n",
        "    plt.show()\n",
        "\n",
        "\n",
        "'''sample = text\n",
        "cleaned = clean_text(sample)\n",
        "freq_dict = get_word_frequencies(cleaned, top_n=3)\n",
        "print(\"Frequencies:\", freq_dict)\n",
        "visualise_frequencies(freq_dict)'''"
      ],
      "metadata": {
        "id": "aiHAQwb8oXRr"
      },
      "execution_count": null,
      "outputs": []
    },
    {
      "cell_type": "markdown",
      "source": [
        "## **A well working program with main menu**\n",
        "\n",
        "Below is a well developed program which:\n",
        "* Takes user inputs\n",
        "* Cleans and  analyses it\n",
        "* shows stats + word frequencies\n",
        "* Visualises Data\n",
        "* Uses a clean menu with pyinputplus"
      ],
      "metadata": {
        "id": "9MCl60qRQThu"
      }
    },
    {
      "cell_type": "code",
      "source": [
        "!pip install pyinputplus"
      ],
      "metadata": {
        "id": "VtlkphzSRg_7",
        "outputId": "e1d94807-c75c-4fac-b466-f4dffe6b28b0",
        "colab": {
          "base_uri": "https://localhost:8080/"
        }
      },
      "execution_count": 18,
      "outputs": [
        {
          "output_type": "stream",
          "name": "stdout",
          "text": [
            "Requirement already satisfied: pyinputplus in /usr/local/lib/python3.11/dist-packages (0.2.12)\n",
            "Requirement already satisfied: pysimplevalidate>=0.2.7 in /usr/local/lib/python3.11/dist-packages (from pyinputplus) (0.2.12)\n",
            "Requirement already satisfied: stdiomask>=0.0.3 in /usr/local/lib/python3.11/dist-packages (from pyinputplus) (0.0.6)\n"
          ]
        }
      ]
    },
    {
      "cell_type": "code",
      "source": [
        "import pyinputplus as pyip\n",
        "import re\n",
        "from collections import Counter\n",
        "import matplotlib.pyplot as plt\n",
        "\n",
        "def get_user_input():\n",
        "    print(\"\\n Please enter your text below.\")\n",
        "    print(\"(Press Enter twice to finish):\")\n",
        "\n",
        "    lines = []\n",
        "    while True:\n",
        "        line = input()\n",
        "        if line.strip() == \"\":\n",
        "            if lines:\n",
        "                break\n",
        "            else:\n",
        "                print(\"Please enter at least one line of text.\")\n",
        "        else:\n",
        "            lines.append(line.strip())\n",
        "\n",
        "    return \" \".join(lines)\n",
        "\n",
        "def clean_text(text):\n",
        "    # Convert to lowercase\n",
        "    text = text.lower()\n",
        "    # Remove punctuation using regex\n",
        "    text = re.sub(r'[^\\w\\s]', '', text)\n",
        "    return text\n",
        "\n",
        "def calculate_statistics(cleaned_text):\n",
        "    #the function had an unused argument \"cleaned\"\n",
        "    #so i deleted it\n",
        "    words = cleaned_text.split()\n",
        "    word_count = len(words)\n",
        "\n",
        "    # Basic sentence count: count '.', '!' or '?' in original text\n",
        "    # (Assume original text is available, not cleaned one)\n",
        "    sentence_count = len(re.findall(r'[.!?]', cleaned_text))\n",
        "\n",
        "    # Calculate average word length\n",
        "    if word_count > 0:\n",
        "        avg_word_len = sum(len(word) for word in words) / word_count\n",
        "    else:\n",
        "        avg_word_len = 0\n",
        "\n",
        "    return {\n",
        "        'word_count': word_count,\n",
        "        'sentence_count': sentence_count,\n",
        "        'average_word_length': round(avg_word_len, 2)\n",
        "    }\n",
        "\n",
        "\n",
        "from collections import Counter\n",
        "\n",
        "def get_word_frequencies(cleaned_text, top_n=10):\n",
        "    words = cleaned_text.split()\n",
        "    word_counts = Counter(words)\n",
        "    most_common = word_counts.most_common(top_n)\n",
        "    return dict(most_common)\n",
        "\n",
        "\n",
        "\n",
        "def visualise_frequencies(freq_dict):\n",
        "    if not freq_dict:\n",
        "        print(\"No data to display.\")\n",
        "        return\n",
        "\n",
        "    words = list(freq_dict.keys())\n",
        "    counts = list(freq_dict.values())\n",
        "\n",
        "    plt.figure(figsize=(10, 6))\n",
        "    plt.bar(words, counts, color='skyblue')\n",
        "    plt.xlabel('Words')\n",
        "    plt.ylabel('Frequency')\n",
        "    plt.title('Top Word Frequencies')\n",
        "    plt.xticks(rotation=45)\n",
        "    plt.tight_layout()\n",
        "    plt.show()\n",
        "\n",
        "\n",
        "\n",
        "def main_menu():\n",
        "    user_text = \"\"\n",
        "    cleaned = \"\"\n",
        "    stats = {}\n",
        "    freq_dict = {}\n",
        "\n",
        "    while True:\n",
        "        print(\"\\n TEXT ANALYSIS TOOL MENU\")\n",
        "        choice = pyip.inputMenu([\n",
        "            '1. Enter new text',\n",
        "            '2. Show text statistics',\n",
        "            '3. Show top word frequencies',\n",
        "            '4. Visualise word frequencies',\n",
        "            '5. Exit'\n",
        "        ], numbered=True)\n",
        "\n",
        "        if choice.startswith('1'):\n",
        "            user_text = get_user_input()\n",
        "            cleaned = clean_text(user_text)\n",
        "            #Removed the unused argument \"cleaned\" from\n",
        "            #calculate_statistics function call\n",
        "            stats = calculate_statistics(user_text)\n",
        "            freq_dict = get_word_frequencies(cleaned, top_n=10)\n",
        "            print(\"Text saved and analysed!\")\n",
        "\n",
        "        elif choice.startswith('2'):\n",
        "            if not user_text:\n",
        "                print(\"No text entered yet. Please enter text first.\")\n",
        "            else:\n",
        "                print(\"\\nText Statistics:\")\n",
        "                for key, value in stats.items():\n",
        "                    print(f\"{key.replace('_', ' ').capitalize()}: {value}\")\n",
        "\n",
        "        elif choice.startswith('3'):\n",
        "            if not freq_dict:\n",
        "                print(\"No frequency data available. Please enter text first.\")\n",
        "            else:\n",
        "                print(\"\\n Top Word Frequencies:\")\n",
        "                for word, count in freq_dict.items():\n",
        "                    print(f\"{word}: {count}\")\n",
        "\n",
        "        elif choice.startswith('4'):\n",
        "            visualise_frequencies(freq_dict)\n",
        "\n",
        "        elif choice.startswith('5'):\n",
        "            print(\"Exiting program. Goodbye!\")\n",
        "            break\n"
      ],
      "metadata": {
        "id": "CeT9clL_RP5a"
      },
      "execution_count": 19,
      "outputs": []
    },
    {
      "cell_type": "markdown",
      "source": [
        "# **Run the program**\n",
        "\n",
        "* This is the user executable interface"
      ],
      "metadata": {
        "id": "4LB9DcQQOzwP"
      }
    },
    {
      "cell_type": "code",
      "source": [
        "\n",
        "\n",
        "main_menu()\n"
      ],
      "metadata": {
        "colab": {
          "base_uri": "https://localhost:8080/",
          "height": 1000
        },
        "id": "lBhHHFb4SUQ7",
        "outputId": "888e1386-171a-4ac2-c2b3-958a17d5b4d8"
      },
      "execution_count": null,
      "outputs": [
        {
          "metadata": {
            "tags": null
          },
          "name": "stdout",
          "output_type": "stream",
          "text": [
            "\n",
            " TEXT ANALYSIS TOOL MENU\n",
            "Please select one of the following:\n",
            "1. 1. Enter new text\n",
            "2. 2. Show text statistics\n",
            "3. 3. Show top word frequencies\n",
            "4. 4. Visualise word frequencies\n",
            "5. 5. Exit\n",
            "\n",
            " Please enter your text below.\n",
            "(Press Enter twice to finish):\n",
            "Text saved and analysed!\n",
            "\n",
            " TEXT ANALYSIS TOOL MENU\n",
            "Please select one of the following:\n",
            "1. 1. Enter new text\n",
            "2. 2. Show text statistics\n",
            "3. 3. Show top word frequencies\n",
            "4. 4. Visualise word frequencies\n",
            "5. 5. Exit\n",
            "\n",
            "Text Statistics:\n",
            "Word count: 6\n",
            "Sentence count: 1\n",
            "Average word length: 4.33\n",
            "\n",
            " TEXT ANALYSIS TOOL MENU\n",
            "Please select one of the following:\n",
            "1. 1. Enter new text\n",
            "2. 2. Show text statistics\n",
            "3. 3. Show top word frequencies\n",
            "4. 4. Visualise word frequencies\n",
            "5. 5. Exit\n",
            "\n",
            " Top Word Frequencies:\n",
            "this: 1\n",
            "is: 1\n",
            "a: 1\n",
            "sample: 1\n",
            "text: 1\n",
            "string: 1\n",
            "\n",
            " TEXT ANALYSIS TOOL MENU\n",
            "Please select one of the following:\n",
            "1. 1. Enter new text\n",
            "2. 2. Show text statistics\n",
            "3. 3. Show top word frequencies\n",
            "4. 4. Visualise word frequencies\n",
            "5. 5. Exit\n"
          ]
        },
        {
          "data": {
            "image/png": "[encoded data removed]",
            "text/plain": [
              "<Figure size 1000x600 with 1 Axes>"
            ]
          },
          "metadata": {},
          "output_type": "display_data"
        },
        {
          "metadata": {
            "tags": null
          },
          "name": "stdout",
          "output_type": "stream",
          "text": [
            "\n",
            " TEXT ANALYSIS TOOL MENU\n",
            "Please select one of the following:\n",
            "1. 1. Enter new text\n",
            "2. 2. Show text statistics\n",
            "3. 3. Show top word frequencies\n",
            "4. 4. Visualise word frequencies\n",
            "5. 5. Exit\n"
          ]
        }
      ]
    }
  ]
}